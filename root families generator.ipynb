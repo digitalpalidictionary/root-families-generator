{
 "cells": [
  {
   "cell_type": "code",
   "execution_count": 190,
   "metadata": {},
   "outputs": [
    {
     "name": "stderr",
     "output_type": "stream",
     "text": [
      "08:58:42 opening dpd.csv as data frame\n",
      "/tmp/ipykernel_10580/603085108.py:15: FutureWarning: The default value of regex will change from True to False in a future version.\n",
      "  df[\"Grp\"].str.replace(fr\"(\\d)\\.0\", \"\\\\1\")\n"
     ]
    },
    {
     "data": {
      "text/plain": [
       "0         \n",
       "1         \n",
       "2         \n",
       "3         \n",
       "4         \n",
       "        ..\n",
       "44740     \n",
       "44741     \n",
       "44742     \n",
       "44743     \n",
       "44744     \n",
       "Name: Grp, Length: 44745, dtype: object"
      ]
     },
     "execution_count": 190,
     "metadata": {},
     "output_type": "execute_result"
    }
   ],
   "source": [
    "#!/usr/bin/env python3.10\n",
    "# coding: utf-8\n",
    "\n",
    "import logging\n",
    "import pandas as pd\n",
    "\n",
    "#setup logger\n",
    "logging.basicConfig(format='%(asctime)s %(message)s', datefmt='%I:%M:%S')\n",
    "\n",
    "#import dpd csv as dataframe\n",
    "logging.warning(f\"opening dpd.csv as data frame\")\n",
    "csv_file = \"/home/bhikkhu/Bodhirasa/Dropbox/dpd/csvs/dpd.csv\"\n",
    "df = pd.read_csv (csv_file, sep=\"\\t\", dtype={\"Metadata\":str, \"POS = Grammar\":str, \"Grp\":str})\n",
    "df[\"Grp\"].fillna(\"\", inplace=True)\n",
    "df[\"Grp\"].str.replace(fr\"(\\d)\\.0\", \"\\\\1\")\n",
    "# df.fillna(\"\", inplace=True)"
   ]
  },
  {
   "cell_type": "code",
   "execution_count": 191,
   "metadata": {},
   "outputs": [],
   "source": [
    "# #combine meaning and buddhadatta columns\n",
    "# df = pd.read_csv (csv_file, sep=\"\\t\", dtype={\"Metadata\":str, \"POS = Grammar\":str})\n",
    "\n",
    "# df[\"Buddhadatta\"] = df[\"Buddhadatta\"].str.replace(\"(.+)\", \"<div style='color: #AA4400'>\\\\1<div>\")\n",
    "\n",
    "\n",
    "\n",
    "# df.loc[df[\"Meaning IN CONTEXT\"].isnull(), \"Meaning IN CONTEXT\"] = df[\"Buddhadatta\"]\n"
   ]
  },
  {
   "cell_type": "code",
   "execution_count": 192,
   "metadata": {},
   "outputs": [
    {
     "name": "stderr",
     "output_type": "stream",
     "text": [
      "08:58:42 extracting root family names\n",
      "08:58:42 /csvs/writing root families list.csv\n",
      "08:58:42 root_families_count = 2630\n"
     ]
    }
   ],
   "source": [
    "# extract root families\n",
    "logging.warning(\"extracting root family names\")\n",
    "\n",
    "root_family_list = df[~df[\"Family\"].isnull()]\n",
    "root_family_list = root_family_list[~root_family_list[\"Pāli1\"].str.contains(\"Help\", \"Abbreviations\")]\n",
    "root_family_list = root_family_list[[\"Pāli Root\", \"Grp\", \"Root Meaning\", \"Family\"]]\n",
    "root_family_list = root_family_list.drop_duplicates(subset=[\"Pāli Root\", \"Grp\", \"Root Meaning\", \"Family\"])\n",
    "root_family_list.sort_values([\"Pāli Root\", \"Grp\", \"Root Meaning\", \"Family\"], ascending = (True, True, True, True), inplace=True)\n",
    "root_family_list = root_family_list.reset_index(drop=True)\n",
    "\n",
    "\n",
    "\n",
    "# write families\n",
    "logging.warning(f\"/csvs/writing root families list.csv\")\n",
    "root_family_list.to_csv(\"/home/bhikkhu/Bodhirasa/Dropbox/dpd/root families generator/root families list.csv\", sep=\"\\t\")\n",
    "\n",
    "# row count\n",
    "root_families_count = root_family_list.shape[0]\n",
    "logging.warning(f\"root_families_count = {root_families_count}\")\n"
   ]
  },
  {
   "cell_type": "code",
   "execution_count": 193,
   "metadata": {},
   "outputs": [],
   "source": [
    "yn = input(\"for (s)tudents or (r)oots diciotnary or (a)nki \")"
   ]
  },
  {
   "cell_type": "code",
   "execution_count": 194,
   "metadata": {},
   "outputs": [],
   "source": [
    "# for study\n",
    "\n",
    "if yn == \"s\":\n",
    "\n",
    "    #writing root families study.csv\n",
    "    logging.warning (\"writing root families for study.csv\")\n",
    "    txt_file = open (\"/home/bhikkhu/Bodhirasa/Dropbox/dpd/root families generator/csvs/root families for study.csv\", 'w', encoding= \"'utf-8\")\n",
    "    txt_file.write(f\"Family\\tGrp\\tRoot Meaning\\tPāli\\tConstruction\\tPOS\\tMeaning\\n\")\n",
    "\n",
    "    logging.warning (\"~\" *40)\n",
    "    row =0\n",
    "\n",
    "    for row in range (0, root_families_count):\n",
    "        root = root_family_list.iloc[row, 0]\n",
    "        root_group = (root_family_list.iloc[row, 1]) #.astype(int)\n",
    "        root_meaning = root_family_list.iloc[row, 2]\n",
    "        root_family = root_family_list.iloc[row, 3]\n",
    "\n",
    "        if row % 100 == 0:\n",
    "            logging.warning (f\"{row} {root} {root_group} {root_meaning} {root_family}\")\n",
    "\n",
    "        test1 = ~df[\"Pāli Root\"].isnull()\n",
    "        test2 = df[\"Pāli Root\"] == (root)\n",
    "        test3 = df[\"Grp\"] == (root_group).astype(int)\n",
    "        test4 = df[\"Root Meaning\"] == (root_meaning)\n",
    "        test5 = df[\"Family\"] == (root_family)\n",
    "\n",
    "        filter = test1 & test2 & test3 & test4 & test5\n",
    "        filtered_df = df.loc[filter, [\"Family\", \"Grp\", \"Root Meaning\", \"Pāli1\", \"Construction\", \"POS\", \"Meaning IN CONTEXT\"]]\n",
    "\n",
    "        with open(\"/home/bhikkhu/Bodhirasa/Dropbox/dpd/root families generator/csvs/root families for study.csv\", 'a') as txt_file:\n",
    "            txt_file.write (f\"~~~~~~~~~~\\n\")\n",
    "            # txt_file.write (f\"{root_family}\\n\")\n",
    "            filtered_df.to_csv(txt_file, header=False, index=False, sep=\"\\t\")\n",
    "\n"
   ]
  },
  {
   "cell_type": "code",
   "execution_count": 195,
   "metadata": {},
   "outputs": [
    {
     "name": "stderr",
     "output_type": "stream",
     "text": [
      "/tmp/ipykernel_10580/2758916074.py:12: FutureWarning: The default value of regex will change from True to False in a future version.\n",
      "  df[\"Buddhadatta\"] = df[\"Buddhadatta\"].str.replace(\"(.+)\", \"<div style='color: #AA4400'>\\\\1<div>\")\n",
      "/tmp/ipykernel_10580/2758916074.py:16: FutureWarning: The default value of regex will change from True to False in a future version.\n",
      "  df[\"Construction\"] = df[\"Construction\"].str.replace(\"(.+)\\n.+\", \"\\\\1\")\n",
      "08:58:44 writing root families for anki.csv\n",
      "08:58:44 ~~~~~~~~~~~~~~~~~~~~~~~~~~~~~~~~~~~~~~~~\n",
      "08:58:44 0 √acc 1 shine, praise √acc\n",
      "08:58:49 500 √dā 3 tie, bind saṃ √dā\n",
      "08:58:54 1000 √kas 1 drag, draw pari √kas\n",
      "08:58:59 1500 √nam 1 bend ud √nam\n",
      "08:59:04 2000 √sid 3 sweat, steam pari √sid\n",
      "08:59:09 2500 √yas 3 strive, struggle adhi pa √yas\n"
     ]
    }
   ],
   "source": [
    "#  for anki\n",
    "\n",
    "from datetime import date\n",
    "\n",
    "today = date.today()\n",
    "date = today.strftime(\"%d\")\n",
    "\n",
    "if yn == \"a\":\n",
    "\n",
    "    #combine meaning and buddhadatta columns\n",
    "    \n",
    "    df[\"Buddhadatta\"] = df[\"Buddhadatta\"].str.replace(\"(.+)\", \"<div style='color: #AA4400'>\\\\1<div>\")\n",
    "\n",
    "    df.loc[df[\"Meaning IN CONTEXT\"].isnull(), \"Meaning IN CONTEXT\"] = df[\"Buddhadatta\"]\n",
    "\n",
    "    df[\"Construction\"] = df[\"Construction\"].str.replace(\"(.+)\\n.+\", \"\\\\1\")\n",
    "\n",
    "    #writing root families for anki.csv\n",
    "    logging.warning (\"writing root families for anki.csv\")\n",
    "    txt_file = open (\"/home/bhikkhu/Bodhirasa/Dropbox/dpd/csvs for anki/root families.csv\", 'w', encoding= \"'utf-8\")\n",
    "\n",
    "    \n",
    "\n",
    "    logging.warning (\"~\" *40)\n",
    "    row =0\n",
    "\n",
    "    for row in range (0, root_families_count):\n",
    "        root = root_family_list.iloc[row, 0]\n",
    "        root_group = (root_family_list.iloc[row, 1]) #.astype(int)\n",
    "        root_meaning = root_family_list.iloc[row, 2]\n",
    "        root_family = root_family_list.iloc[row, 3]\n",
    "\n",
    "        if row % 500 == 0:\n",
    "            logging.warning (f\"{row} {root} {root_group} {root_meaning} {root_family}\")\n",
    "        \n",
    "        test1 = ~df[\"Pāli Root\"].isnull()\n",
    "        test2 = df[\"Pāli Root\"] == (root)\n",
    "        test3 = df[\"Grp\"] == (root_group) #.astype(int)\n",
    "        test4 = df[\"Root Meaning\"] == (root_meaning)\n",
    "        test5 = df[\"Family\"] == (root_family)\n",
    "\n",
    "        filter = test1 & test2 & test3 & test4 & test5\n",
    "        filtered_df = df.loc[filter, [\"Pāli1\", \"POS\", \"Meaning IN CONTEXT\", \"Construction\"]]\n",
    "\n",
    "        # filtered_df['Pāli1'] = \"<tr valign='top'><div style='color: #FFB380'><td>\" + df['Pāli1']\n",
    "\n",
    "        with open(\"/home/bhikkhu/Bodhirasa/Dropbox/dpd/csvs for anki/root families.csv\", 'a') as txt_file:\n",
    "            txt_file.write(f\"<b>{root_family}</b> {root_group} ({root_meaning})\\t\")\n",
    "            txt_file.write(f\"<table><tbody>\")\n",
    "            for row in range(filtered_df.shape[0]):\n",
    "                pāli = filtered_df.iloc[row, 0]\n",
    "                pos = filtered_df.iloc[row, 1]\n",
    "                meaning = filtered_df.iloc[row, 2]\n",
    "                construction = filtered_df.iloc[row, 3]\n",
    "                txt_file.write(f\"<tr valign='top'><div style='color: #FFB380'><td>{pāli}</td><td><div style='color: #FF6600'>{pos}</div></td><td><div style='color: #FFB380'>{meaning}</td><td><div style='color: #AA4400'>{construction}</div></td></tr>\")\n",
    "            txt_file.write(f\"</tbody></table>\")\n",
    "            txt_file.write(f\"\\t{date}\")\n",
    "            txt_file.write(f\"\\n\")\n",
    "\n"
   ]
  },
  {
   "cell_type": "code",
   "execution_count": 196,
   "metadata": {},
   "outputs": [],
   "source": [
    "# for dictionary\n",
    "\n",
    "if yn == \"r\":\n",
    "\n",
    "    #writing root families for dictionary.csv\n",
    "    logging.warning (\"writing root families for dictionary.csv\")\n",
    "    txt_file = open (\"/home/bhikkhu/Bodhirasa/Dropbox/dpd/csvs/root families for dictionary.csv\", 'w', encoding= \"'utf-8\")\n",
    "    txt_file.write(f\"Root\\tGrp\\tMeaning\\tFamily\\tPāli\\tPOS\\tEnglish\\n\")\n",
    "\n",
    "    logging.warning (\"~\" *40)\n",
    "    row =0\n",
    "\n",
    "    for row in range (0, root_families_count):\n",
    "        root = root_family_list.iloc[row, 0]\n",
    "        root_group = (root_family_list.iloc[row, 1]).astype(int)\n",
    "        root_meaning = root_family_list.iloc[row, 2]\n",
    "        root_family = root_family_list.iloc[row, 3]\n",
    "\n",
    "        if row % 100 == 0:\n",
    "            logging.warning (f\"{row} {root} {root_group} {root_meaning} {root_family}\")\n",
    "\n",
    "        test1 = ~df[\"Pāli Root\"].isnull()\n",
    "        test2 = df[\"Pāli Root\"] == (root)\n",
    "        test3 = df[\"Grp\"] == (root_group).astype(int)\n",
    "        test4 = df[\"Root Meaning\"] == (root_meaning)\n",
    "        test5 = df[\"Family\"] == (root_family)\n",
    "\n",
    "        filter = test1 & test2 & test3 & test4 & test5\n",
    "        filtered_df = df.loc[filter, [\"Pāli Root\", \"Grp\", \"Root Meaning\", \"Family\", \"Pāli1\", \"POS\", \"Meaning IN CONTEXT\"]]\n",
    "\n",
    "        with open(\"/home/bhikkhu/Bodhirasa/Dropbox/dpd/csvs/root families for dictionary.csv\", 'a') as txt_file:\n",
    "            filtered_df.to_csv(txt_file, header=False, index=False, sep=\"\\t\")\n"
   ]
  }
 ],
 "metadata": {
  "interpreter": {
   "hash": "8a94588eda9d64d9e9a351ab8144e55b1fabf5113b54e67dd26a8c27df0381b3"
  },
  "kernelspec": {
   "display_name": "Python 3.10.1 64-bit",
   "language": "python",
   "name": "python3"
  },
  "language_info": {
   "codemirror_mode": {
    "name": "ipython",
    "version": 3
   },
   "file_extension": ".py",
   "mimetype": "text/x-python",
   "name": "python",
   "nbconvert_exporter": "python",
   "pygments_lexer": "ipython3",
   "version": "3.10.1"
  },
  "orig_nbformat": 4
 },
 "nbformat": 4,
 "nbformat_minor": 2
}
