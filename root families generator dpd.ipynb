{
 "cells": [
  {
   "cell_type": "markdown",
   "metadata": {},
   "source": [
    "setup"
   ]
  },
  {
   "cell_type": "code",
   "execution_count": null,
   "metadata": {},
   "outputs": [],
   "source": [
    "import pandas as pd\n",
    "from datetime import datetime\n",
    "start_time = datetime.now()"
   ]
  },
  {
   "cell_type": "markdown",
   "metadata": {},
   "source": [
    "set up sorter"
   ]
  },
  {
   "cell_type": "code",
   "execution_count": null,
   "metadata": {},
   "outputs": [],
   "source": [
    "def sort_key(word):\n",
    "\n",
    "    pāli_alphabet = [\n",
    "        \"√\", \"a\", \"ā\", \"i\", \"ī\", \"u\", \"ū\", \"e\", \"o\", \"k\", \"kh\", \"g\", \"gh\", \"ṅ\",\n",
    "        \"c\", \"ch\", \"j\", \"jh\", \"ñ\", \"ṭ\", \"ṭh\", \"ḍ\", \"ḍḥ\", \"ṇ\", \"t\", \"th\", \"d\",\n",
    "        \"dh\", \"n\", \"p\", \"ph\", \"b\", \"bh\", \"m\", \"y\", \"r\", \"l\", \"s\", \"v\", \"h\",\n",
    "        \"ḷ\", \"ṃ\", \" \", \"1\", \"2\", \"3\", \"4\", \"5\", \"6\", \"7\", \"8\", \"9\", \"0\"\n",
    "    ]\n",
    "\n",
    "    #comp iteration condition\n",
    "    dl = [i for i in pāli_alphabet if len(i) > 1]\n",
    "\n",
    "    for i in dl:\n",
    "        word = word.replace(i, '/{}'.format(i))\n",
    "\n",
    "    wordVe = []\n",
    "\n",
    "    k = -3\n",
    "\n",
    "    for j in range(len(word)):\n",
    "        if word[j] == '/':\n",
    "            k = j\n",
    "            wordVe.append(word[j + 1:j + 3])\n",
    "        if j > k + 2:\n",
    "            wordVe.append(word[j])\n",
    "\n",
    "    word = wordVe\n",
    "\n",
    "    pāli_alphabet_string = '-'.join(pāli_alphabet)\n",
    "    return [pāli_alphabet_string.find('-' + x + '-') for x in wordVe]"
   ]
  },
  {
   "cell_type": "markdown",
   "metadata": {},
   "source": [
    "setup roots df"
   ]
  },
  {
   "cell_type": "code",
   "execution_count": null,
   "metadata": {},
   "outputs": [],
   "source": [
    "roots_df = pd.read_csv(\"/home/bhikkhu/Bodhirasa/Dropbox/dpd/csvs/roots.csv\", sep=\"\\t\", dtype=str)\n",
    "roots_df.fillna(\"\", inplace=True)\n",
    "\n",
    "# roots_df.replace(\"\\.0$\", \"\", inplace=True, regex=True)\n",
    "roots_df = roots_df[roots_df[\"Count\"] != \"0\"] # remove roots with no examples\n",
    "roots_df = roots_df[roots_df[\"Fin\"] != \"\"] # remove extra iines\n",
    "roots_df.sort_values(by = [\"Root\"], inplace=True, ignore_index=True, key=lambda x: x.map(sort_key)) #sort\n",
    "roots_df[\"Dhātupātha\"] = roots_df[\"Dhātupātha\"].str.replace(\"-\", \"\")\n",
    "roots_df[\"Kaccāyana Dhātu Mañjūsā\"] = roots_df[\"Kaccāyana Dhātu Mañjūsā\"].str.replace(\"-\", \"\")\n",
    "\n",
    "roots_df_count = roots_df.shape[0]"
   ]
  },
  {
   "cell_type": "markdown",
   "metadata": {},
   "source": [
    "setup dpd_df"
   ]
  },
  {
   "cell_type": "code",
   "execution_count": null,
   "metadata": {},
   "outputs": [],
   "source": [
    "dpd_df = pd.read_csv(\"/home/bhikkhu/Bodhirasa/Dropbox/dpd/csvs/dpd-full.csv\", sep=\"\\t\", dtype=str)\n",
    "dpd_df.fillna(\"\", inplace=True)\n",
    "\n",
    "dpd_df.loc[dpd_df[\"Meaning IN CONTEXT\"] == \"\", \"Meaning IN CONTEXT\"] = dpd_df[\"Buddhadatta\"] + \"*\""
   ]
  },
  {
   "cell_type": "markdown",
   "metadata": {},
   "source": [
    "extract families from dpd-full.csv"
   ]
  },
  {
   "cell_type": "code",
   "execution_count": null,
   "metadata": {},
   "outputs": [],
   "source": [
    "test1 = dpd_df[\"Family\"] != \"\"\n",
    "test2 = dpd_df[\"Metadata\"] == \"\"\n",
    "filter = test1 & test2\n",
    "root_families_df = dpd_df.loc[filter, [\"Pāli Root\", \"Grp\", \"Root Meaning\", \"Family\"]]\n",
    "\n",
    "root_families_df = root_families_df.drop_duplicates(subset=[\"Pāli Root\", \"Grp\", \"Root Meaning\", \"Family\"])\n",
    "root_families_df.sort_values([\"Pāli Root\", \"Grp\", \"Root Meaning\", \"Family\"], ascending = (True, True, True, True), inplace=True)\n",
    "root_families_df.sort_values(by = [\"Family\"], inplace=True, ignore_index=True, key=lambda x: x.map(sort_key)) #sort\n",
    "root_families_df = root_families_df.reset_index(drop=True)\n",
    "\n",
    "# row count\n",
    "root_families_df_count = root_families_df.shape[0]"
   ]
  },
  {
   "cell_type": "markdown",
   "metadata": {},
   "source": [
    "generate html for each root subfamily"
   ]
  },
  {
   "cell_type": "code",
   "execution_count": null,
   "metadata": {},
   "outputs": [],
   "source": [
    "print(\"~\"*40)\n",
    "print(\"generating html for each root subfamily\")\n",
    "print(\"~\"*40)\n",
    "\n",
    "for row in range(root_families_df_count):\n",
    "\n",
    "\troot = root_families_df.loc[row, \"Pāli Root\"]\n",
    "\troot_group = root_families_df.loc[row, \"Grp\"]\n",
    "\troot_meaning = root_families_df.loc[row, \"Root Meaning\"]\n",
    "\tsubfamily = root_families_df.loc[row, \"Family\"]\n",
    "\n",
    "\tif row % 500 == 0 or row /  root_families_df_count == 1:\n",
    "\t\tprint(f\"{row}/{root_families_df_count}\\t{subfamily} {root_group} {root_meaning}\")\n",
    "\n",
    "\t# dpd_df.columns\n",
    "\ttest1 = dpd_df[\"Pāli Root\"] == root\n",
    "\ttest2 = dpd_df[\"Grp\"] == root_group\n",
    "\ttest3 = dpd_df[\"Root Meaning\"] == root_meaning\n",
    "\ttest4 = dpd_df[\"Family\"] == subfamily\n",
    "\tfilter = test1 & test2 & test3 & test4\n",
    "\tsubfamily_df = dpd_df.loc[filter, [\"Pāli1\", \"POS\", \"Meaning IN CONTEXT\"]]\n",
    "\n",
    "\tsubfamily_df_length = subfamily_df.shape[0]\n",
    "\n",
    "\thtml_string = \"\"\n",
    "\n",
    "\thtml_string += \"\"\"<tbody>\"\"\"\n",
    "\t\t\n",
    "\tfor row_sf in range(subfamily_df_length):\n",
    "\t\tsf_pali = subfamily_df.iloc[row_sf, 0]\n",
    "\t\tsf_pos = subfamily_df.iloc[row_sf, 1]\n",
    "\t\tsf_english = subfamily_df.iloc[row_sf, 2]\n",
    "\n",
    "\t\thtml_string += f\"<tr><th>{sf_pali}</th>\"\n",
    "\t\thtml_string += f\"<td>{sf_pos}</td>\"\n",
    "\t\thtml_string += f\"<td>{sf_english}</td></tr>\"\n",
    "\t\n",
    "\thtml_string += f\"\"\"</tbody>\"\"\"\n",
    "\n",
    "\twith open(f\"output/subfamily html/{root} {root_group} {root_meaning} {subfamily}.html\", \"w\") as output_file:\n",
    "\t\toutput_file.write(html_string)"
   ]
  },
  {
   "cell_type": "markdown",
   "metadata": {},
   "source": [
    "extract bases"
   ]
  },
  {
   "cell_type": "code",
   "execution_count": null,
   "metadata": {},
   "outputs": [],
   "source": [
    "print(\"~\"*40)\n",
    "print(\"extracting bases\")\n",
    "print(\"~\"*40)\n",
    "\n",
    "bases_df = dpd_df\n",
    "\n",
    "bases_dict = {}\n",
    "\n",
    "for row in range(roots_df_count):\n",
    "\troot = roots_df.iloc[row, 2]\n",
    "\troot_group = roots_df.iloc[row, 5]\n",
    "\troot_meaning = roots_df.iloc[row, 8]\n",
    "\n",
    "\ttest1 = bases_df[\"Pāli Root\"] == root\n",
    "\ttest2 = bases_df[\"Grp\"] == root_group\n",
    "\ttest3 = bases_df[\"Root Meaning\"] == root_meaning\n",
    "\ttest4 = bases_df[\"Base\"].str.contains(fr\">\")\n",
    "\n",
    "\tfilter = test1 & test2 & test3 & test4\n",
    "\tbases_filtered = bases_df.loc[filter, [\"Base\"]]\n",
    "\n",
    "\tbases_filtered.drop_duplicates(\"Base\", inplace=True, keep=\"first\")\n",
    "\tbases_filtered = bases_filtered.dropna()\n",
    "\tbases_filtered = bases_filtered.sort_values(by=\"Base\", key=lambda x: x.str.len())\n",
    "\tbases_filtered = bases_filtered[\"Base\"].str.replace(\"^.+ > \", \"\")\n",
    "\n",
    "\tbases_filtered_size = bases_filtered.shape[0]\n",
    "\n",
    "\tif row % 100 == 0:\n",
    "\t\tprint(f\"{row}/{roots_df_count}\\t{root} {root_group} {root_meaning}\")\n",
    "\n",
    "\twith open(f\"output/bases/{root} {root_group} {root_meaning}.csv\", \"w\") as output_file:\n",
    "\t\tbases_filtered_size = bases_filtered.shape[0]\n",
    "\n",
    "\t\tif bases_filtered_size == 0:\n",
    "\t\t\toutput_file.write(f\"-\")\n",
    "\t\tif bases_filtered_size > 0:\n",
    "\t\t\tbases_filtered.to_csv(output_file, header=False, index=False, sep=\"\\t\")"
   ]
  },
  {
   "cell_type": "markdown",
   "metadata": {},
   "source": [
    "extract families to csv"
   ]
  },
  {
   "cell_type": "code",
   "execution_count": null,
   "metadata": {},
   "outputs": [],
   "source": [
    "root_families_df = dpd_df\n",
    "\n",
    "for row in range(roots_df_count):\n",
    "\tcount = roots_df.iloc[row, 1]\n",
    "\troot = roots_df.iloc[row, 2]\n",
    "\troot_group = roots_df.iloc[row, 5]\n",
    "\troot_meaning = roots_df.iloc[row, 8]\n",
    "\n",
    "\ttest1 = root_families_df[\"Pāli Root\"] == root\n",
    "\ttest2 = root_families_df[\"Root Meaning\"] == root_meaning\n",
    "\ttest3 = root_families_df[\"Grp\"] == root_group\n",
    "\tfilter = test1 & test2 & test3\n",
    "\troot_families_filtered = root_families_df.loc[filter, [\"Family\"]]\n",
    "\troot_families_filtered.drop_duplicates(\"Family\", inplace=True, keep='first')\n",
    "\n",
    "\troot_families_filtered.sort_values(by = [\"Family\"], inplace=True, ignore_index=True, key=lambda x: x.map(sort_key)) #sort\n",
    "\n",
    "\twith open(f\"/home/bhikkhu/Bodhirasa/Dropbox/dpd/root families generator/output/families/{root} {root_group} {root_meaning}.csv\", \"w\") as output_file:\n",
    "\t\troot_families_filtered.to_csv(output_file, header=False, index=False, sep=\"\\t\")"
   ]
  },
  {
   "cell_type": "markdown",
   "metadata": {},
   "source": [
    "write root information"
   ]
  },
  {
   "cell_type": "code",
   "execution_count": null,
   "metadata": {},
   "outputs": [],
   "source": [
    "print(\"~\"*40)\n",
    "print(\"writing root info\")\n",
    "\n",
    "\n",
    "import re\n",
    "\n",
    "for row in range(roots_df_count):\n",
    "\troot = roots_df.iloc[row, 2]\n",
    "\troot_in_comps = roots_df.iloc[row, 3]\n",
    "\troot_has_verb = roots_df.iloc[row, 4]\n",
    "\troot_group = roots_df.iloc[row, 5]\n",
    "\troot_sign = roots_df.iloc[row, 6]\n",
    "\troot_meaning = roots_df.iloc[row, 8]\n",
    "\n",
    "\tbase_file = open(f\"output/bases/{root} {root_group} {root_meaning}.csv\")\n",
    "\tbase = base_file.read()\n",
    "\tbase_file.close()\n",
    "\tbase = re.sub(\"\\n\", \", \", base)\n",
    "\tbase = re.sub(\", $\", \"\", base)\n",
    "\n",
    "\tsk_root = roots_df.iloc[row, 9]\n",
    "\tsk_root_meaning = roots_df.iloc[row, 10]\n",
    "\tsk_root_class = roots_df.iloc[row, 11]\n",
    "\texample = roots_df.iloc[row, 12]\n",
    "\tdhp_no = roots_df.iloc[row, 13]\n",
    "\tdhp_root = roots_df.iloc[row, 14]\n",
    "\tdhp_meaning = roots_df.iloc[row, 15]\n",
    "\tdhp_english = roots_df.iloc[row, 16]\n",
    "\tdhm_no = roots_df.iloc[row, 17]\n",
    "\tdhm_root = roots_df.iloc[row, 18]\n",
    "\tdhm_meaning = roots_df.iloc[row, 19]\n",
    "\tdhm_english = roots_df.iloc[row, 20]\n",
    "\tsdn_root = roots_df.iloc[row, 21]\n",
    "\tsdn_meaning = roots_df.iloc[row, 22]\n",
    "\tsdn_english = roots_df.iloc[row, 23]\n",
    "\tpdp_root = roots_df.iloc[row, 24]\n",
    "\tpdp_meaning = roots_df.iloc[row, 25]\n",
    "\tpdp_english = roots_df.iloc[row, 26]\n",
    "\tnotes = roots_df.iloc[row, 27]\n",
    "\n",
    "\tif str(root_group) == \"1\":\n",
    "\t\troot_group_pali = \"bhūvādigaṇa\"\n",
    "\tif str(root_group) == \"2\":\n",
    "\t\troot_group_pali = \"rudhādigaṇa\"\n",
    "\tif str(root_group) == \"3\":\n",
    "\t\troot_group_pali = \"divādigaṇa\"\n",
    "\tif str(root_group) == \"4\":\n",
    "\t\troot_group_pali = \"svādigaṇa\"\n",
    "\tif str(root_group) == \"5\":\n",
    "\t\troot_group_pali = \"kiyādigaṇa\"\n",
    "\tif str(root_group) == \"6\":\n",
    "\t\troot_group_pali = \"gahādigaṇa\"\n",
    "\tif str(root_group) == \"7\":\n",
    "\t\troot_group_pali = \"tanādigaṇa\"\n",
    "\tif str(root_group) == \"8\":\n",
    "\t\troot_group_pali = \"curādigaṇa\"\n",
    "\n",
    "\n",
    "\thtml_string = \"\"\n",
    "\thtml_string += f\"\"\"<tbody>\"\"\"\n",
    "\thtml_string += f\"\"\"<tr><th>pāli root:</th><td>{root}<sup>{root_has_verb}</sup>{root_group} {root_group_pali} +{root_sign} ({root_meaning})</td></tr>\"\"\"\n",
    "\thtml_string += f\"\"\"<tr><th>base(s):</th><td>{base}</td></tr>\"\"\"\n",
    "\n",
    "# Root in comps\n",
    "\tif root_in_comps != \"\":\n",
    "\t\thtml_string += f\"\"\"<tr><th>in compounds:</th><td>{root_in_comps}</td></tr>\"\"\"\n",
    "\telse:\n",
    "\t\tpass\n",
    "\n",
    "# Dhātupātha\n",
    "\tif dhp_root != \"-\":\n",
    "\t\thtml_string += f\"\"\"<tr><th>dhātupātha:</th><td>{dhp_root} <i>{dhp_meaning}</i> ({dhp_english}) #{dhp_no}</td></tr>\"\"\"\n",
    "\telse:\n",
    "\t\thtml_string += f\"\"\"<tr><th>dhātupātha:</th><td>-</td></tr>\"\"\"\n",
    "\n",
    "\t# Dhātumañjūsa\n",
    "\tif dhm_root != \"-\":\n",
    "\t\thtml_string += f\"\"\"<tr><th>dhātumañjūsa:</th><td>{dhm_root} <i>{dhm_meaning}</i> ({dhm_english}) #{dhm_no}</td></tr>\"\"\"\n",
    "\telse:\n",
    "\t\thtml_string += f\"\"\"<tr><th>dhātumañjūsa:</th><td>-</td></tr>\"\"\"\n",
    "\n",
    "\t# Saddanīti\n",
    "\tif sdn_root != \"-\":\n",
    "\t\thtml_string += f\"\"\"<tr><th>saddanīti:</th><td>{sdn_root} <i>{sdn_meaning}</i> ({sdn_english})</td></tr>\"\"\"\n",
    "\telse:\n",
    "\t\thtml_string += f\"\"\"<tr><th>saddanīti:</th><td>-</td></tr>\"\"\"\n",
    "\n",
    "\t# Sanskrit\n",
    "\thtml_string += f\"\"\"<tr><th>sanskrit root:</th><td style = 'color:gray'>{sk_root} {sk_root_class} ({sk_root_meaning})</td></tr>\"\"\"\n",
    "\n",
    "\t# Pāṇinīya Dhātupāṭha\n",
    "\tif pdp_root != \"-\":\n",
    "\t\thtml_string += f\"\"\"<tr><th>pāṇinīya dhātupāṭha:</th><td style = 'color:gray'>{pdp_root} <i>{pdp_meaning}</i> ({pdp_english})</td></tr>\"\"\"\n",
    "\telse:\n",
    "\t\thtml_string += f\"\"\"<tr><th>pāṇinīya dhātupāṭha:</th><td>-</td></tr>\"\"\"\n",
    "\n",
    "\thtml_string += f\"\"\"</tbody>\"\"\"\n",
    "\n",
    "\twith open(f\"output/root info/{root} {root_group} {root_meaning}.html\", \"w\") as output_file:\n",
    "\t\toutput_file.write(html_string)"
   ]
  },
  {
   "cell_type": "markdown",
   "metadata": {},
   "source": [
    "timer"
   ]
  },
  {
   "cell_type": "code",
   "execution_count": null,
   "metadata": {},
   "outputs": [],
   "source": [
    "print(\"~\"*40)\n",
    "end_time = datetime.now()\n",
    "print('{} subtotal'.format(end_time - start_time))"
   ]
  }
 ],
 "metadata": {
  "interpreter": {
   "hash": "8a94588eda9d64d9e9a351ab8144e55b1fabf5113b54e67dd26a8c27df0381b3"
  },
  "kernelspec": {
   "display_name": "Python 3.10.1 64-bit",
   "language": "python",
   "name": "python3"
  },
  "language_info": {
   "codemirror_mode": {
    "name": "ipython",
    "version": 3
   },
   "file_extension": ".py",
   "mimetype": "text/x-python",
   "name": "python",
   "nbconvert_exporter": "python",
   "pygments_lexer": "ipython3",
   "version": "3.10.1"
  },
  "orig_nbformat": 4
 },
 "nbformat": 4,
 "nbformat_minor": 2
}
