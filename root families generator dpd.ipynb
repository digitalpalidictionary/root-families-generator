{
 "cells": [
  {
   "cell_type": "markdown",
   "metadata": {},
   "source": [
    "setup"
   ]
  },
  {
   "cell_type": "code",
   "execution_count": 66,
   "metadata": {},
   "outputs": [],
   "source": [
    "import pandas as pd\n",
    "from datetime import datetime\n",
    "start_time = datetime.now()\n"
   ]
  },
  {
   "cell_type": "markdown",
   "metadata": {},
   "source": [
    "set up sorter"
   ]
  },
  {
   "cell_type": "code",
   "execution_count": 67,
   "metadata": {},
   "outputs": [
    {
     "data": {
      "text/plain": [
       "<function __main__.sort_Key(word)>"
      ]
     },
     "execution_count": 67,
     "metadata": {},
     "output_type": "execute_result"
    }
   ],
   "source": [
    "def sort_Key(word):\n",
    "\n",
    "    pāli_alphabet = [\n",
    "        \"√\", \"a\", \"ā\", \"i\", \"ī\", \"u\", \"ū\", \"e\", \"o\", \"k\", \"kh\", \"g\", \"gh\", \"ṅ\",\n",
    "        \"c\", \"ch\", \"j\", \"jh\", \"ñ\", \"ṭ\", \"ṭh\", \"ḍ\", \"ḍḥ\", \"ṇ\", \"t\", \"th\", \"d\",\n",
    "        \"dh\", \"n\", \"p\", \"ph\", \"b\", \"bh\", \"m\", \"y\", \"r\", \"l\", \"s\", \"v\", \"h\",\n",
    "        \"ḷ\", \"ṃ\", \" \", \"1\", \"2\", \"3\", \"4\", \"5\", \"6\", \"7\", \"8\", \"9\", \"0\"\n",
    "    ]\n",
    "\n",
    "    #comp iteration condition\n",
    "    dl = [i for i in pāli_alphabet if len(i) > 1]\n",
    "\n",
    "    for i in dl:\n",
    "        word = word.replace(i, '/{}'.format(i))\n",
    "\n",
    "    wordVe = []\n",
    "\n",
    "    k = -3\n",
    "\n",
    "    for j in range(len(word)):\n",
    "        if word[j] == '/':\n",
    "            k = j\n",
    "            wordVe.append(word[j + 1:j + 3])\n",
    "        if j > k + 2:\n",
    "            wordVe.append(word[j])\n",
    "\n",
    "    word = wordVe\n",
    "\n",
    "    pāli_alphabet_string = '-'.join(pāli_alphabet)\n",
    "    return [pāli_alphabet_string.find('-' + x + '-') for x in wordVe]\n",
    "sort_Key"
   ]
  },
  {
   "cell_type": "markdown",
   "metadata": {},
   "source": [
    "create roots_db"
   ]
  },
  {
   "cell_type": "code",
   "execution_count": 68,
   "metadata": {},
   "outputs": [],
   "source": [
    "roots_df = pd.read_csv(\"/home/bhikkhu/Bodhirasa/Dropbox/dpd/csvs/roots.csv\", sep=\"\\t\", dtype=str)\n",
    "roots_df.fillna(\"\", inplace=True)\n",
    "roots_df.replace(\"\\.0$\", \"\", inplace=True, regex=True)\n",
    "roots_df = roots_df[roots_df[\"Count\"] != \"0\"] # remove roots with no examples\n",
    "# roots_df.sort_values(by = [\"Root\"], inplace=True, ignore_index=True, key=lambda x: x.map(sortKey)) #sort\n",
    "roots_df[\"Dhātupātha\"] = roots_df[\"Dhātupātha\"].str.replace(\"-\", \"\")\n",
    "roots_df[\"Kaccāyana Dhātu Mañjūsā\"] = roots_df[\"Kaccāyana Dhātu Mañjūsā\"].str.replace(\"-\", \"\")\n",
    "\n",
    "# row count\n",
    "roots_df_count = roots_df.shape[0]"
   ]
  },
  {
   "cell_type": "markdown",
   "metadata": {},
   "source": [
    "setup dpd_df wi"
   ]
  },
  {
   "cell_type": "code",
   "execution_count": 69,
   "metadata": {},
   "outputs": [],
   "source": [
    "dpd_df = pd.read_csv(\"/home/bhikkhu/Bodhirasa/Dropbox/dpd/csvs/dpd-full.csv\", sep=\"\\t\", dtype=str)\n",
    "dpd_df.fillna(\"\", inplace=True)\n",
    "\n",
    "dpd_df.loc[dpd_df[\"Meaning IN CONTEXT\"] == \"\", \"Meaning IN CONTEXT\"] = dpd_df[\"Buddhadatta\"] + \"*\""
   ]
  },
  {
   "cell_type": "markdown",
   "metadata": {},
   "source": [
    "extract families from dpd-full.csv"
   ]
  },
  {
   "cell_type": "code",
   "execution_count": 70,
   "metadata": {},
   "outputs": [],
   "source": [
    "test1 = dpd_df[\"Family\"] != \"\"\n",
    "test2 = dpd_df[\"Metadata\"] == \"\"\n",
    "filter = test1 & test2\n",
    "root_families_df = dpd_df.loc[filter, [\"Pāli Root\", \"Grp\", \"Root Meaning\", \"Family\"]]\n",
    "root_families_df = root_families_df.drop_duplicates(subset=[\"Pāli Root\", \"Grp\", \"Root Meaning\", \"Family\"])\n",
    "root_families_df.sort_values([\"Pāli Root\", \"Grp\", \"Root Meaning\", \"Family\"], ascending = (True, True, True, True), inplace=True)\n",
    "# root_families_df.sort_values(by = [\"Family\"], inplace=True, ignore_index=True, key=lambda x: x.map(sortKey)) #sort\n",
    "root_families_df = root_families_df.reset_index(drop=True)\n",
    "\n",
    "# row count\n",
    "root_families_df_count = root_families_df.shape[0]"
   ]
  },
  {
   "cell_type": "markdown",
   "metadata": {},
   "source": [
    "generate html for each root subfamily"
   ]
  },
  {
   "cell_type": "code",
   "execution_count": 72,
   "metadata": {},
   "outputs": [],
   "source": [
    "# print(root_families_df.columns)\n",
    "\n",
    "for row in range(root_families_df_count):\n",
    "\troot = root_families_df.loc[row, \"Pāli Root\"]\n",
    "\troot_group = root_families_df.loc[row, \"Grp\"]\n",
    "\troot_meaning = root_families_df.loc[row, \"Root Meaning\"]\n",
    "\tsubfamily = root_families_df.loc[row, \"Family\"]\n",
    "\n",
    "\t# dpd_df.columns\n",
    "\ttest1 = dpd_df[\"Pāli Root\"] == root\n",
    "\ttest2 = dpd_df[\"Grp\"] == root_group\n",
    "\ttest3 = dpd_df[\"Root Meaning\"] == root_meaning\n",
    "\ttest4 = dpd_df[\"Family\"] == subfamily\n",
    "\tfilter = test1 & test2 & test3 & test4\n",
    "\tsubfamily_df = dpd_df.loc[filter, [\"Pāli1\", \"POS\", \"Meaning IN CONTEXT\"]]\n",
    "\n",
    "\tsubfamily_df_length = subfamily_df.shape[0]\n",
    "\n",
    "\twith open(f\"/home/bhikkhu/Bodhirasa/Dropbox/dpd/root families generator/subfamily html/{root} {root_group} {root_meaning} {subfamily}.html\", \"w\") as output_file:\n",
    "\t\t\t\n",
    "\t\toutput_file.write(f\"\"\"<table class= \"table3\"><tbody>\"\"\")\n",
    "\t\t\n",
    "\t\tfor row_sf in range(subfamily_df_length):\n",
    "\t\t\tsf_pali = subfamily_df.iloc[row_sf, 0]\n",
    "\t\t\tsf_pos = subfamily_df.iloc[row_sf, 1]\n",
    "\t\t\tsf_english = subfamily_df.iloc[row_sf, 2]\n",
    "\t\t\t# print(f\"{row_sf}\\t{sf_pali}\\t({sf_pos})  \\t{sf_english}\")\n",
    "\n",
    "\n",
    "\t\t\toutput_file.write(f\"<tr><th>{sf_pali}</th>\")\n",
    "\t\t\toutput_file.write(f\"<td>{sf_pos}</td>\")\n",
    "\t\t\toutput_file.write(f\"<td>{sf_english}</td></tr>\")\n",
    "\t\t\n",
    "\t\toutput_file.write(f\"\"\"</tbody></table>\"\"\")\n"
   ]
  },
  {
   "cell_type": "markdown",
   "metadata": {},
   "source": [
    "timer"
   ]
  },
  {
   "cell_type": "code",
   "execution_count": 74,
   "metadata": {},
   "outputs": [
    {
     "name": "stdout",
     "output_type": "stream",
     "text": [
      "0:00:28.462811 total\n"
     ]
    }
   ],
   "source": [
    "end_time = datetime.now()\n",
    "print('{} total'.format(end_time - start_time))"
   ]
  }
 ],
 "metadata": {
  "interpreter": {
   "hash": "8a94588eda9d64d9e9a351ab8144e55b1fabf5113b54e67dd26a8c27df0381b3"
  },
  "kernelspec": {
   "display_name": "Python 3.10.1 64-bit",
   "language": "python",
   "name": "python3"
  },
  "language_info": {
   "codemirror_mode": {
    "name": "ipython",
    "version": 3
   },
   "file_extension": ".py",
   "mimetype": "text/x-python",
   "name": "python",
   "nbconvert_exporter": "python",
   "pygments_lexer": "ipython3",
   "version": "3.10.1"
  },
  "orig_nbformat": 4
 },
 "nbformat": 4,
 "nbformat_minor": 2
}
